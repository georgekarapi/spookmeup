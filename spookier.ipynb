{
 "cells": [
  {
   "cell_type": "code",
   "execution_count": 42,
   "metadata": {},
   "outputs": [],
   "source": [
    "from pedalboard import Pedalboard, load_plugin\n",
    "from pedalboard.io import AudioFile\n",
    "\n",
    "# Load the audio with AudioFile\n",
    "with AudioFile(\"input.mp3\") as f:\n",
    "    audio = f.read(f.frames)\n",
    "    samplerate = f.samplerate\n",
    "    num_channels = f.num_channels\n",
    "\n",
    "# Load the VST plugin\n",
    "plugin = load_plugin(\"dumpster.vst3\")\n",
    "plugin.tooth = -28\n",
    "plugin.aether = 828\n",
    "pedalboard = Pedalboard([plugin])\n",
    "\n",
    "# Apply the VST effect\n",
    "effected = pedalboard(audio, samplerate) \n",
    "with AudioFile(\"output.mp3\", \"w\", samplerate, num_channels=num_channels) as f:\n",
    "    f.write(effected)"
   ]
  }
 ],
 "metadata": {
  "kernelspec": {
   "display_name": "Python 3",
   "language": "python",
   "name": "python3"
  },
  "language_info": {
   "codemirror_mode": {
    "name": "ipython",
    "version": 3
   },
   "file_extension": ".py",
   "mimetype": "text/x-python",
   "name": "python",
   "nbconvert_exporter": "python",
   "pygments_lexer": "ipython3",
   "version": "3.9.6"
  }
 },
 "nbformat": 4,
 "nbformat_minor": 2
}
